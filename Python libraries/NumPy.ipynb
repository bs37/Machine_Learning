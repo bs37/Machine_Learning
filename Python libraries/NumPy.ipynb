{
 "cells": [
  {
   "cell_type": "code",
   "execution_count": 1,
   "id": "3ffb9b9b-5398-45ec-8263-ca9c755351b9",
   "metadata": {},
   "outputs": [],
   "source": [
    "import numpy as np"
   ]
  },
  {
   "cell_type": "code",
   "execution_count": 2,
   "id": "746b9465-3587-4c8c-9d30-7bbdc0b7bf32",
   "metadata": {},
   "outputs": [
    {
     "name": "stdout",
     "output_type": "stream",
     "text": [
      "1.19.1\n"
     ]
    }
   ],
   "source": [
    "print(np.__version__)"
   ]
  },
  {
   "cell_type": "markdown",
   "id": "800f9827-7165-4cbb-a19d-fcdd9d70f1db",
   "metadata": {},
   "source": [
    "## NumPy Functions"
   ]
  },
  {
   "cell_type": "code",
   "execution_count": 3,
   "id": "b2db39d6-8f70-46db-976b-8819a07e000f",
   "metadata": {},
   "outputs": [
    {
     "data": {
      "text/plain": [
       "array([1, 2, 3, 4, 5])"
      ]
     },
     "execution_count": 3,
     "metadata": {},
     "output_type": "execute_result"
    }
   ],
   "source": [
    "a = [1,2,3,4,5]\n",
    "myArr = np.array(a)\n",
    "myArr"
   ]
  },
  {
   "cell_type": "code",
   "execution_count": 4,
   "id": "09439da7-5fef-47fa-87cc-df6c9a52e0ed",
   "metadata": {},
   "outputs": [
    {
     "name": "stdout",
     "output_type": "stream",
     "text": [
      "<class 'numpy.ndarray'>\n"
     ]
    }
   ],
   "source": [
    "print(type(myArr))"
   ]
  },
  {
   "cell_type": "code",
   "execution_count": 5,
   "id": "7b337a16-21ef-4e91-8f90-f0b6c54efa6f",
   "metadata": {},
   "outputs": [
    {
     "data": {
      "text/plain": [
       "array([4, 3, 2, 1])"
      ]
     },
     "execution_count": 5,
     "metadata": {},
     "output_type": "execute_result"
    }
   ],
   "source": [
    "myArr2 = np.array([4,3,2,1])\n",
    "myArr2"
   ]
  },
  {
   "cell_type": "code",
   "execution_count": 6,
   "id": "4a8ec898-d8aa-4b64-8aba-f6196ee074cd",
   "metadata": {},
   "outputs": [
    {
     "name": "stdout",
     "output_type": "stream",
     "text": [
      "<class 'numpy.ndarray'>\n"
     ]
    }
   ],
   "source": [
    "print(type(myArr2))"
   ]
  },
  {
   "cell_type": "code",
   "execution_count": 7,
   "id": "7ae33ef1-5669-445f-81e4-7d6725538dea",
   "metadata": {},
   "outputs": [
    {
     "data": {
      "text/plain": [
       "array([[1, 2, 3],\n",
       "       [4, 5, 6],\n",
       "       [7, 8, 9]])"
      ]
     },
     "execution_count": 7,
     "metadata": {},
     "output_type": "execute_result"
    }
   ],
   "source": [
    "a = [[1,2,3],[4,5,6],[7,8,9]]\n",
    "myArr3 = np.array(a)\n",
    "myArr3"
   ]
  },
  {
   "cell_type": "code",
   "execution_count": 8,
   "id": "cb384fe1-ec02-4564-8f02-e6d8c4c7267c",
   "metadata": {},
   "outputs": [
    {
     "name": "stdout",
     "output_type": "stream",
     "text": [
      "ndim: 2\n",
      "shape: (3, 3)\n"
     ]
    }
   ],
   "source": [
    "print(\"ndim:\",myArr3.ndim)\n",
    "print(\"shape:\",myArr3.shape)"
   ]
  },
  {
   "cell_type": "markdown",
   "id": "c0dea3d3-f595-4414-9db7-8a5c9061ade8",
   "metadata": {},
   "source": [
    "## zeros() and ones() (same)"
   ]
  },
  {
   "cell_type": "code",
   "execution_count": 9,
   "id": "67df3dbb-b0f4-4770-9f7c-09bac04923c0",
   "metadata": {},
   "outputs": [
    {
     "data": {
      "text/plain": [
       "array([0., 0., 0., 0., 0.])"
      ]
     },
     "execution_count": 9,
     "metadata": {},
     "output_type": "execute_result"
    }
   ],
   "source": [
    "myArr4 = np.zeros(5)\n",
    "myArr4"
   ]
  },
  {
   "cell_type": "code",
   "execution_count": 10,
   "id": "c1a9638f-9338-4e13-8293-8ebb269d20f2",
   "metadata": {},
   "outputs": [
    {
     "data": {
      "text/plain": [
       "array([[0., 0., 0., 0.],\n",
       "       [0., 0., 0., 0.],\n",
       "       [0., 0., 0., 0.]])"
      ]
     },
     "execution_count": 10,
     "metadata": {},
     "output_type": "execute_result"
    }
   ],
   "source": [
    "myArr5 = np.zeros((3,4))\n",
    "myArr5"
   ]
  },
  {
   "cell_type": "code",
   "execution_count": 11,
   "id": "41b6ef4f-cc30-4a2d-b8ea-bc1f72a3a7d6",
   "metadata": {},
   "outputs": [
    {
     "data": {
      "text/plain": [
       "array([[1., 0., 0., 0., 0.],\n",
       "       [0., 1., 0., 0., 0.],\n",
       "       [0., 0., 1., 0., 0.],\n",
       "       [0., 0., 0., 1., 0.],\n",
       "       [0., 0., 0., 0., 1.]])"
      ]
     },
     "execution_count": 11,
     "metadata": {},
     "output_type": "execute_result"
    }
   ],
   "source": [
    "myArr6 = np.eye(5)\n",
    "myArr6"
   ]
  },
  {
   "cell_type": "code",
   "execution_count": 12,
   "id": "d4f337ba-fa43-4098-8fc0-fb8286ae3499",
   "metadata": {},
   "outputs": [
    {
     "data": {
      "text/plain": [
       "array([[1., 0., 0., 0.],\n",
       "       [0., 1., 0., 0.],\n",
       "       [0., 0., 1., 0.]])"
      ]
     },
     "execution_count": 12,
     "metadata": {},
     "output_type": "execute_result"
    }
   ],
   "source": [
    "myArr7 = np.eye(3,4)\n",
    "myArr7"
   ]
  },
  {
   "cell_type": "code",
   "execution_count": 13,
   "id": "d85ced93-cb2e-46fb-b90f-e88deb0a5dec",
   "metadata": {},
   "outputs": [
    {
     "data": {
      "text/plain": [
       "array([[1, 0, 0, 0, 0],\n",
       "       [0, 2, 0, 0, 0],\n",
       "       [0, 0, 3, 0, 0],\n",
       "       [0, 0, 0, 4, 0],\n",
       "       [0, 0, 0, 0, 5]])"
      ]
     },
     "execution_count": 13,
     "metadata": {},
     "output_type": "execute_result"
    }
   ],
   "source": [
    "myArr8 = np.diag([1,2,3,4,5])\n",
    "myArr8"
   ]
  },
  {
   "cell_type": "code",
   "execution_count": 14,
   "id": "11080a1b-c777-4e13-8140-32e045596ce5",
   "metadata": {},
   "outputs": [
    {
     "data": {
      "text/plain": [
       "array([1, 2, 3, 4, 5])"
      ]
     },
     "execution_count": 14,
     "metadata": {},
     "output_type": "execute_result"
    }
   ],
   "source": [
    "np.diag(myArr8)"
   ]
  },
  {
   "cell_type": "code",
   "execution_count": 15,
   "id": "d233ce91-c9c1-4c6e-aca1-e20e77416da1",
   "metadata": {},
   "outputs": [
    {
     "data": {
      "text/plain": [
       "array([46, 39, 21, 32, 27, 19, 13, 46,  8, 21, 45,  5,  5])"
      ]
     },
     "execution_count": 15,
     "metadata": {},
     "output_type": "execute_result"
    }
   ],
   "source": [
    "myArr9 = np.random.randint(1,50,13)\n",
    "myArr9"
   ]
  },
  {
   "cell_type": "code",
   "execution_count": 16,
   "id": "046c2d24-7bbb-4a07-afa9-3f30ca676c3e",
   "metadata": {},
   "outputs": [
    {
     "data": {
      "text/plain": [
       "array([0.84935059, 0.01374307, 0.02740737, 0.6720044 , 0.15219493])"
      ]
     },
     "execution_count": 16,
     "metadata": {},
     "output_type": "execute_result"
    }
   ],
   "source": [
    "myArr10 = np.random.rand(5)\n",
    "myArr10"
   ]
  },
  {
   "cell_type": "code",
   "execution_count": 17,
   "id": "a97f1f86-af72-43ee-8830-ec4d8d06d63b",
   "metadata": {},
   "outputs": [
    {
     "data": {
      "text/plain": [
       "array([[0.90839226, 0.26735924, 0.50269721, 0.78593704, 0.51483978,\n",
       "        0.24060189, 0.49650985],\n",
       "       [0.05098397, 0.72635706, 0.64439978, 0.55427184, 0.91469271,\n",
       "        0.81160005, 0.94932364],\n",
       "       [0.35691819, 0.19916972, 0.58071587, 0.50732426, 0.90120835,\n",
       "        0.89612701, 0.52901529],\n",
       "       [0.39351386, 0.33119792, 0.40360974, 0.37638185, 0.1596475 ,\n",
       "        0.52671308, 0.70968284],\n",
       "       [0.55009029, 0.73327584, 0.50501322, 0.99207595, 0.74817676,\n",
       "        0.12566773, 0.75767022],\n",
       "       [0.67611786, 0.05673596, 0.28494911, 0.29428802, 0.85571014,\n",
       "        0.77139193, 0.89687934]])"
      ]
     },
     "execution_count": 17,
     "metadata": {},
     "output_type": "execute_result"
    }
   ],
   "source": [
    "myArr11 = np.random.rand(6,7)\n",
    "myArr11"
   ]
  },
  {
   "cell_type": "code",
   "execution_count": 18,
   "id": "9586b3bb-d988-4f16-bff7-94063892b21c",
   "metadata": {},
   "outputs": [
    {
     "data": {
      "text/plain": [
       "array([21, 32, 27])"
      ]
     },
     "execution_count": 18,
     "metadata": {},
     "output_type": "execute_result"
    }
   ],
   "source": [
    "myArr9[2:5]"
   ]
  },
  {
   "cell_type": "code",
   "execution_count": 19,
   "id": "51dd2559-e9c4-4975-9ace-ea8d59475d74",
   "metadata": {},
   "outputs": [
    {
     "data": {
      "text/plain": [
       "array([27, 13,  8, 45,  5])"
      ]
     },
     "execution_count": 19,
     "metadata": {},
     "output_type": "execute_result"
    }
   ],
   "source": [
    "myArr9[4::2]"
   ]
  },
  {
   "cell_type": "code",
   "execution_count": 20,
   "id": "a564103d-4620-4fc8-854b-bdfb15430a5d",
   "metadata": {},
   "outputs": [
    {
     "data": {
      "text/plain": [
       "array([[0.90839226, 0.26735924, 0.50269721, 0.78593704, 0.51483978,\n",
       "        0.24060189, 0.49650985],\n",
       "       [0.39351386, 0.33119792, 0.40360974, 0.37638185, 0.1596475 ,\n",
       "        0.52671308, 0.70968284]])"
      ]
     },
     "execution_count": 20,
     "metadata": {},
     "output_type": "execute_result"
    }
   ],
   "source": [
    "myArr11[::3][::]"
   ]
  },
  {
   "cell_type": "code",
   "execution_count": 21,
   "id": "022a2149-549a-4fbe-9e36-5634bb4b9f30",
   "metadata": {},
   "outputs": [
    {
     "data": {
      "text/plain": [
       "array([[0.90839226, 0.50269721, 0.51483978, 0.49650985],\n",
       "       [0.05098397, 0.64439978, 0.91469271, 0.94932364],\n",
       "       [0.35691819, 0.58071587, 0.90120835, 0.52901529],\n",
       "       [0.39351386, 0.40360974, 0.1596475 , 0.70968284],\n",
       "       [0.55009029, 0.50501322, 0.74817676, 0.75767022],\n",
       "       [0.67611786, 0.28494911, 0.85571014, 0.89687934]])"
      ]
     },
     "execution_count": 21,
     "metadata": {},
     "output_type": "execute_result"
    }
   ],
   "source": [
    "myArr11[::,::2]"
   ]
  },
  {
   "cell_type": "code",
   "execution_count": 22,
   "id": "ea3b05d0-c68e-42ec-8f59-83c6820ad49b",
   "metadata": {},
   "outputs": [
    {
     "data": {
      "text/plain": [
       "array([ 7,  3, 29, 48, 18, 11, 34, 24, 26, 32, 10, 26])"
      ]
     },
     "execution_count": 22,
     "metadata": {},
     "output_type": "execute_result"
    }
   ],
   "source": [
    "myArr12 = np.random.randint(1,50,12)\n",
    "myArr12"
   ]
  },
  {
   "cell_type": "code",
   "execution_count": 23,
   "id": "434314da-8713-4200-b951-1a058748a401",
   "metadata": {},
   "outputs": [
    {
     "data": {
      "text/plain": [
       "array([[ 7,  3],\n",
       "       [29, 48],\n",
       "       [18, 11],\n",
       "       [34, 24],\n",
       "       [26, 32],\n",
       "       [10, 26]])"
      ]
     },
     "execution_count": 23,
     "metadata": {},
     "output_type": "execute_result"
    }
   ],
   "source": [
    "myArr13 = myArr12.reshape(6,2)\n",
    "myArr13"
   ]
  },
  {
   "cell_type": "code",
   "execution_count": 24,
   "id": "25819678-be0e-42c0-8000-802a686da34d",
   "metadata": {},
   "outputs": [
    {
     "data": {
      "text/plain": [
       "array([[[ 7,  3, 29],\n",
       "        [48, 18, 11]],\n",
       "\n",
       "       [[34, 24, 26],\n",
       "        [32, 10, 26]]])"
      ]
     },
     "execution_count": 24,
     "metadata": {},
     "output_type": "execute_result"
    }
   ],
   "source": [
    "myArr14 = myArr12.reshape(2,2,3)\n",
    "myArr14"
   ]
  },
  {
   "cell_type": "code",
   "execution_count": 25,
   "id": "bbeae76d-f7d3-47fb-bb7a-3b72e57f615b",
   "metadata": {},
   "outputs": [
    {
     "data": {
      "text/plain": [
       "array([[ 7,  3],\n",
       "       [29, 48],\n",
       "       [18, 11],\n",
       "       [34, 24],\n",
       "       [26, 32],\n",
       "       [10, 26]])"
      ]
     },
     "execution_count": 25,
     "metadata": {},
     "output_type": "execute_result"
    }
   ],
   "source": [
    "myArr15 = myArr12.reshape(6,-1)\n",
    "myArr15"
   ]
  },
  {
   "cell_type": "code",
   "execution_count": 26,
   "id": "6749838a-b6e3-4a29-b837-e0eac26cf1fb",
   "metadata": {},
   "outputs": [
    {
     "data": {
      "text/plain": [
       "array([[ 7,  3, 29],\n",
       "       [48, 18, 11],\n",
       "       [34, 24, 26],\n",
       "       [32, 10, 26]])"
      ]
     },
     "execution_count": 26,
     "metadata": {},
     "output_type": "execute_result"
    }
   ],
   "source": [
    "myArr16 = myArr12.reshape(-1,3)\n",
    "myArr16"
   ]
  },
  {
   "cell_type": "code",
   "execution_count": 27,
   "id": "ce0f2cee-5a23-4237-9c30-3116c1a6d3e7",
   "metadata": {},
   "outputs": [
    {
     "data": {
      "text/plain": [
       "array([76, 28,  7,  3,  4, 68, 77, 49, 23, 50])"
      ]
     },
     "execution_count": 27,
     "metadata": {},
     "output_type": "execute_result"
    }
   ],
   "source": [
    "np.random.seed(12)\n",
    "myArr17 = np.random.randint(1,100,10)\n",
    "myArr17"
   ]
  },
  {
   "cell_type": "code",
   "execution_count": 28,
   "id": "27639e57-0dbf-473c-a428-14f32c8c4855",
   "metadata": {},
   "outputs": [
    {
     "data": {
      "text/plain": [
       "array([[341, 365, 469, 213,  87, 276],\n",
       "       [170, 323, 119, 467, 297, 456],\n",
       "       [442,   8, 269, 267, 450, 369],\n",
       "       [217, 285, 271, 419,  22,  55],\n",
       "       [201,  38, 461, 231, 187, 269]])"
      ]
     },
     "execution_count": 28,
     "metadata": {},
     "output_type": "execute_result"
    }
   ],
   "source": [
    "np.random.seed(111)\n",
    "myArr18 = np.random.randint(1, 500, 30).reshape(5,6)\n",
    "myArr18"
   ]
  },
  {
   "cell_type": "code",
   "execution_count": 30,
   "id": "a07c373f-18f9-4367-a337-880d4cb756b2",
   "metadata": {},
   "outputs": [
    {
     "data": {
      "text/plain": [
       "array([[323, 119, 467, 297],\n",
       "       [  8, 269, 267, 450],\n",
       "       [285, 271, 419,  22]])"
      ]
     },
     "execution_count": 30,
     "metadata": {},
     "output_type": "execute_result"
    }
   ],
   "source": [
    "myArr18[1:4, 1:5]"
   ]
  },
  {
   "cell_type": "code",
   "execution_count": 31,
   "id": "97a395a0-4dcd-4a61-9c8b-7ba6c27bfcb3",
   "metadata": {},
   "outputs": [
    {
     "data": {
      "text/plain": [
       "array([[365, 213, 276],\n",
       "       [  8, 267, 369],\n",
       "       [ 38, 231, 269]])"
      ]
     },
     "execution_count": 31,
     "metadata": {},
     "output_type": "execute_result"
    }
   ],
   "source": [
    "myArr18[::2, 1::2]"
   ]
  },
  {
   "cell_type": "code",
   "execution_count": 33,
   "id": "a8e792d6-9e13-4451-a010-2c5ad15b0cb6",
   "metadata": {},
   "outputs": [
    {
     "data": {
      "text/plain": [
       "array([341, 323, 269, 419, 187])"
      ]
     },
     "execution_count": 33,
     "metadata": {},
     "output_type": "execute_result"
    }
   ],
   "source": [
    "np.diag(myArr18)"
   ]
  },
  {
   "cell_type": "code",
   "execution_count": 35,
   "id": "ec862c6a-34d6-43b1-a93c-0318efc80fee",
   "metadata": {},
   "outputs": [
    {
     "name": "stdout",
     "output_type": "stream",
     "text": [
      "[ 1  2  3  4  5  6  7  8  9 10]\n",
      "[4 5 6 7 8]\n",
      "[ 1  2  3  0  0  0  0  0  9 10]\n"
     ]
    }
   ],
   "source": [
    "myArr19 = np.array([1,2,3,4,5,6,7,8,9,10])\n",
    "myArr19view = myArr19[3:8]\n",
    "print(myArr19)\n",
    "print(myArr19view)\n",
    "myArr19view[:] = 0\n",
    "print(myArr19)"
   ]
  },
  {
   "cell_type": "code",
   "execution_count": 36,
   "id": "fbc09fe8-6dbe-46e6-a7c6-0dec28c04a26",
   "metadata": {},
   "outputs": [
    {
     "name": "stdout",
     "output_type": "stream",
     "text": [
      "[ 1  2  3  4  5  6  7  8  9 10]\n",
      "[4 5 6 7 8]\n",
      "[ 1  2  3  4  5  6  7  8  9 10]\n"
     ]
    }
   ],
   "source": [
    "myArr19 = np.array([1,2,3,4,5,6,7,8,9,10])\n",
    "myArr19view = myArr19[3:8].copy()\n",
    "print(myArr19)\n",
    "print(myArr19view)\n",
    "myArr19view[:] = 0\n",
    "print(myArr19)"
   ]
  },
  {
   "cell_type": "code",
   "execution_count": 37,
   "id": "66f4072c-3cf6-46ce-973f-f1fe83358b18",
   "metadata": {},
   "outputs": [
    {
     "data": {
      "text/plain": [
       "array([ 1,  2,  3,  4,  5,  6,  7,  8,  9, 10, 11, 12, 13, 14, 15])"
      ]
     },
     "execution_count": 37,
     "metadata": {},
     "output_type": "execute_result"
    }
   ],
   "source": [
    "myArr20 = np.arange(1,16)\n",
    "myArr20"
   ]
  },
  {
   "cell_type": "code",
   "execution_count": 39,
   "id": "793540a1-3c5a-401e-93ef-2363ea802093",
   "metadata": {},
   "outputs": [
    {
     "data": {
      "text/plain": [
       "array([False, False, False, False, False, False, False, False, False,\n",
       "       False,  True,  True,  True,  True,  True])"
      ]
     },
     "execution_count": 39,
     "metadata": {},
     "output_type": "execute_result"
    }
   ],
   "source": [
    "myArr20 > 10"
   ]
  },
  {
   "cell_type": "code",
   "execution_count": 41,
   "id": "4d1cd0dc-6210-4d02-8f85-69467f329030",
   "metadata": {},
   "outputs": [
    {
     "data": {
      "text/plain": [
       "array([ True, False,  True, False,  True, False,  True, False,  True,\n",
       "       False,  True, False,  True, False,  True])"
      ]
     },
     "execution_count": 41,
     "metadata": {},
     "output_type": "execute_result"
    }
   ],
   "source": [
    "myArr20 % 2 == 1"
   ]
  },
  {
   "cell_type": "code",
   "execution_count": 43,
   "id": "3ac2fb6a-23b2-419d-bd6b-d0327e4657eb",
   "metadata": {},
   "outputs": [
    {
     "data": {
      "text/plain": [
       "array([False, False,  True, False, False,  True, False, False,  True,\n",
       "       False, False,  True, False, False,  True])"
      ]
     },
     "execution_count": 43,
     "metadata": {},
     "output_type": "execute_result"
    }
   ],
   "source": [
    "myArr21[myArr20 % 3 == 0]\n",
    "myArr21"
   ]
  },
  {
   "cell_type": "code",
   "execution_count": 50,
   "id": "c7320e34-cf87-4478-99ac-492f7048a958",
   "metadata": {},
   "outputs": [
    {
     "data": {
      "text/plain": [
       "array([False,  True, False, False,  True, False, False,  True])"
      ]
     },
     "execution_count": 50,
     "metadata": {},
     "output_type": "execute_result"
    }
   ],
   "source": [
    "myArr21[myArr20 > 7]"
   ]
  },
  {
   "cell_type": "code",
   "execution_count": 51,
   "id": "a6fd50a0-4258-485d-8300-6aef14093c3c",
   "metadata": {},
   "outputs": [
    {
     "data": {
      "text/plain": [
       "array([1, 2, 3, 4, 5, 6])"
      ]
     },
     "execution_count": 51,
     "metadata": {},
     "output_type": "execute_result"
    }
   ],
   "source": [
    "myArr21 = myArr20[myArr20 < 7]\n",
    "myArr21"
   ]
  },
  {
   "cell_type": "code",
   "execution_count": 57,
   "id": "9371b0ac-d66e-4591-8e39-bd67021fd4c1",
   "metadata": {},
   "outputs": [
    {
     "data": {
      "text/plain": [
       "array([  1, 100,   3, 100,   5, 100,   7, 100,   9, 100,  11, 100,  13,\n",
       "       100,  15])"
      ]
     },
     "execution_count": 57,
     "metadata": {},
     "output_type": "execute_result"
    }
   ],
   "source": [
    "myArr20[myArr20 % 2 == 0] = 100\n",
    "myArr20"
   ]
  },
  {
   "cell_type": "code",
   "execution_count": 61,
   "id": "77fb70a8-dc13-4d48-89cc-31d849ddd43b",
   "metadata": {},
   "outputs": [
    {
     "name": "stdout",
     "output_type": "stream",
     "text": [
      "[[1 2]\n",
      " [3 4]]\n",
      "[[5 6]\n",
      " [7 8]]\n",
      "[[ 5 12]\n",
      " [21 32]]\n",
      "[[19 22]\n",
      " [43 50]]\n"
     ]
    }
   ],
   "source": [
    "a = np.array([1,2,3,4]).reshape(2,2)\n",
    "b = np.array([5,6,7,8]).reshape(2,2)\n",
    "print(a)\n",
    "print(b)\n",
    "print(a*b)\n",
    "print(a.dot(b))"
   ]
  },
  {
   "cell_type": "code",
   "execution_count": 62,
   "id": "8cb097d0-11a7-4e17-8f99-6f380f99922d",
   "metadata": {},
   "outputs": [
    {
     "name": "stdout",
     "output_type": "stream",
     "text": [
      "2\n",
      "42\n",
      "4\n",
      "2\n",
      "[1.73205081 4.79583152 6.4807407  2.23606798 1.41421356 4.58257569]\n",
      "[ 0.14112001 -0.8462204  -0.91652155 -0.95892427  0.90929743  0.83665564]\n",
      "[-0.9899925  -0.53283302 -0.39998531  0.28366219 -0.41614684 -0.54772926]\n"
     ]
    }
   ],
   "source": [
    "a = np.array([3,23,42,5,2,21])\n",
    "print(np.min(a))\n",
    "print(np.max(a))\n",
    "print(np.argmin(a))\n",
    "print(np.argmax(a))\n",
    "print(np.sqrt(a))\n",
    "print(np.sin(a))\n",
    "print(np.cos(a))"
   ]
  },
  {
   "cell_type": "code",
   "execution_count": 63,
   "id": "99ce9f44-8440-4e58-ac27-b084761a9437",
   "metadata": {},
   "outputs": [
    {
     "data": {
      "text/plain": [
       "array([ 1.        ,  1.64285714,  2.28571429,  2.92857143,  3.57142857,\n",
       "        4.21428571,  4.85714286,  5.5       ,  6.14285714,  6.78571429,\n",
       "        7.42857143,  8.07142857,  8.71428571,  9.35714286, 10.        ])"
      ]
     },
     "execution_count": 63,
     "metadata": {},
     "output_type": "execute_result"
    }
   ],
   "source": [
    "a = np.linspace(1,10,15)\n",
    "a"
   ]
  },
  {
   "cell_type": "code",
   "execution_count": 64,
   "id": "73c35285-3416-401d-9f50-614efcd085d0",
   "metadata": {},
   "outputs": [
    {
     "data": {
      "text/plain": [
       "array([ 2.,  4.,  6.,  8., 10.])"
      ]
     },
     "execution_count": 64,
     "metadata": {},
     "output_type": "execute_result"
    }
   ],
   "source": [
    "a = np.linspace(2,10,5)\n",
    "a"
   ]
  },
  {
   "cell_type": "code",
   "execution_count": 70,
   "id": "e38af035-5508-4644-a5b9-35599d98ef3d",
   "metadata": {},
   "outputs": [
    {
     "name": "stdout",
     "output_type": "stream",
     "text": [
      "[[ 1  2  3]\n",
      " [ 4  5  6]\n",
      " [ 5  6  7]\n",
      " [ 8  9 10]]\n",
      "[ 3  6  7 10]\n",
      "[ 8  9 10]\n",
      "[ 6 15 18 27]\n",
      "[ 1  3  6 10 15 21 26 32 39 47 56 66]\n"
     ]
    }
   ],
   "source": [
    "a = np.array([1,2,3,4,5,6,5,6,7,8,9,10]).reshape(4,3)\n",
    "print(a)\n",
    "print(np.max(a, axis = 1))\n",
    "print(np.max(a, axis = 0))\n",
    "print(np.sum(a, axis = 1))\n",
    "print(np.cumsum(a))"
   ]
  },
  {
   "cell_type": "code",
   "execution_count": 78,
   "id": "438475c6-97c2-400e-a52b-ecfb12cef429",
   "metadata": {},
   "outputs": [
    {
     "data": {
      "text/plain": [
       "array([48, 27, 11, 13, 17, 45, 16, 35, 16, 43, 22, 32, 42,  7, 15, 36, 37,\n",
       "       32, 20, 14])"
      ]
     },
     "execution_count": 78,
     "metadata": {},
     "output_type": "execute_result"
    }
   ],
   "source": [
    "np.random.seed(122)\n",
    "a = np.random.randint(1,50,20)\n",
    "a"
   ]
  },
  {
   "cell_type": "code",
   "execution_count": 79,
   "id": "031c34b1-e485-4df7-b7db-ec7766e699fe",
   "metadata": {},
   "outputs": [
    {
     "data": {
      "text/plain": [
       "array([17, 43, 20, 13, 37, 11, 27, 15, 42, 35, 16, 45, 14, 32, 22, 16, 32,\n",
       "       36,  7, 48])"
      ]
     },
     "execution_count": 79,
     "metadata": {},
     "output_type": "execute_result"
    }
   ],
   "source": [
    "np.random.shuffle(a)\n",
    "a"
   ]
  },
  {
   "cell_type": "code",
   "execution_count": 80,
   "id": "85da83af-5593-43af-bb3d-b538222468bc",
   "metadata": {},
   "outputs": [
    {
     "data": {
      "text/plain": [
       "array([ 7, 11, 13, 14, 15, 16, 17, 20, 22, 27, 32, 35, 36, 37, 42, 43, 45,\n",
       "       48])"
      ]
     },
     "execution_count": 80,
     "metadata": {},
     "output_type": "execute_result"
    }
   ],
   "source": [
    "np.unique(a)"
   ]
  },
  {
   "cell_type": "code",
   "execution_count": 81,
   "id": "af63fcc6-aea2-4615-aa16-2e0be0cad4a8",
   "metadata": {},
   "outputs": [
    {
     "data": {
      "text/plain": [
       "18"
      ]
     },
     "execution_count": 81,
     "metadata": {},
     "output_type": "execute_result"
    }
   ],
   "source": [
    "np.unique(a).size"
   ]
  },
  {
   "cell_type": "code",
   "execution_count": 83,
   "id": "d0ee7f41-9bab-4722-8f6b-e30ad869726b",
   "metadata": {},
   "outputs": [
    {
     "data": {
      "text/plain": [
       "(array([1, 2, 3, 4, 6]), array([0, 1, 6, 3, 7]), array([2, 2, 2, 2, 1]))"
      ]
     },
     "execution_count": 83,
     "metadata": {},
     "output_type": "execute_result"
    }
   ],
   "source": [
    "a = np.array([1,2,1,4,2,4,3,6,3])\n",
    "np.unique(a, return_index = True, return_counts = True)"
   ]
  },
  {
   "cell_type": "code",
   "execution_count": 86,
   "id": "6c529073-c4eb-41e0-8f66-c3563c53edec",
   "metadata": {},
   "outputs": [
    {
     "name": "stdout",
     "output_type": "stream",
     "text": [
      "[1 2 3 4]\n",
      "[5 6 7 8]\n",
      "[1 2 3 4 5 6 7 8]\n",
      "[[1 2 3 4]\n",
      " [5 6 7 8]]\n"
     ]
    }
   ],
   "source": [
    "a = np.array([1,2,3,4])\n",
    "b = np.array([5,6,7,8])\n",
    "print(a)\n",
    "print(b)\n",
    "print(np.hstack((a,b)))\n",
    "print(np.vstack((a,b)))"
   ]
  },
  {
   "cell_type": "code",
   "execution_count": 89,
   "id": "f17039cb-0391-44a3-ba3c-b0270583349e",
   "metadata": {},
   "outputs": [
    {
     "name": "stdout",
     "output_type": "stream",
     "text": [
      "[ 1  2  3  4  5  6  7  8  9 10 11 12 13 14 15]\n",
      "(array([ 5,  6,  7,  8,  9, 10, 11, 12, 13, 14]),)\n"
     ]
    }
   ],
   "source": [
    "a = np.arange(1,16)\n",
    "b = np.where(a > 5)\n",
    "print(a)\n",
    "print(b)"
   ]
  },
  {
   "cell_type": "code",
   "execution_count": 90,
   "id": "c2aaf837-e5a9-4a89-afc6-36f57348562a",
   "metadata": {},
   "outputs": [
    {
     "data": {
      "text/plain": [
       "(array([ 4,  9, 14]),)"
      ]
     },
     "execution_count": 90,
     "metadata": {},
     "output_type": "execute_result"
    }
   ],
   "source": [
    "b = np.where(a % 5 == 0)\n",
    "b"
   ]
  },
  {
   "cell_type": "code",
   "execution_count": 92,
   "id": "32b86340-2bd4-48da-8789-69509c3dc8ff",
   "metadata": {},
   "outputs": [
    {
     "data": {
      "text/plain": [
       "(array([ 1,  3,  5,  7,  9, 11, 13]),)"
      ]
     },
     "execution_count": 92,
     "metadata": {},
     "output_type": "execute_result"
    }
   ],
   "source": [
    "b = np.where(a % 2 == 0)\n",
    "b"
   ]
  },
  {
   "cell_type": "code",
   "execution_count": 93,
   "id": "7b9891ae-ac1a-40f4-9457-8f129d5d30d2",
   "metadata": {},
   "outputs": [
    {
     "data": {
      "text/plain": [
       "11"
      ]
     },
     "execution_count": 93,
     "metadata": {},
     "output_type": "execute_result"
    }
   ],
   "source": [
    "c = np.searchsorted(a,12)\n",
    "c"
   ]
  },
  {
   "cell_type": "code",
   "execution_count": null,
   "id": "a8504a40-620a-4c0f-b3c4-c8cd41c3a579",
   "metadata": {},
   "outputs": [],
   "source": []
  }
 ],
 "metadata": {
  "kernelspec": {
   "display_name": "Python 3 (ipykernel)",
   "language": "python",
   "name": "python3"
  },
  "language_info": {
   "codemirror_mode": {
    "name": "ipython",
    "version": 3
   },
   "file_extension": ".py",
   "mimetype": "text/x-python",
   "name": "python",
   "nbconvert_exporter": "python",
   "pygments_lexer": "ipython3",
   "version": "3.8.10"
  }
 },
 "nbformat": 4,
 "nbformat_minor": 5
}
